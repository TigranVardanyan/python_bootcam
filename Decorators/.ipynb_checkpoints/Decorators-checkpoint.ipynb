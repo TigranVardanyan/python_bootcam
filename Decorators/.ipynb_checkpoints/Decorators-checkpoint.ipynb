{
 "cells": [
  {
   "cell_type": "code",
   "execution_count": 10,
   "id": "58c13025",
   "metadata": {},
   "outputs": [],
   "source": [
    "def func():\n",
    "    return 1"
   ]
  },
  {
   "cell_type": "code",
   "execution_count": 11,
   "id": "0fa6a5fa",
   "metadata": {},
   "outputs": [
    {
     "data": {
      "text/plain": [
       "1"
      ]
     },
     "execution_count": 11,
     "metadata": {},
     "output_type": "execute_result"
    }
   ],
   "source": [
    "func()"
   ]
  },
  {
   "cell_type": "code",
   "execution_count": 12,
   "id": "a2cfd5ef",
   "metadata": {},
   "outputs": [
    {
     "data": {
      "text/plain": [
       "<function __main__.func()>"
      ]
     },
     "execution_count": 12,
     "metadata": {},
     "output_type": "execute_result"
    }
   ],
   "source": [
    "func"
   ]
  },
  {
   "cell_type": "code",
   "execution_count": 13,
   "id": "a08bcf4c",
   "metadata": {},
   "outputs": [],
   "source": [
    "def hello():\n",
    "    return \"Hello\""
   ]
  },
  {
   "cell_type": "code",
   "execution_count": 14,
   "id": "d61e3acd",
   "metadata": {},
   "outputs": [
    {
     "data": {
      "text/plain": [
       "'Hello'"
      ]
     },
     "execution_count": 14,
     "metadata": {},
     "output_type": "execute_result"
    }
   ],
   "source": [
    "hello()"
   ]
  },
  {
   "cell_type": "code",
   "execution_count": 15,
   "id": "71347330",
   "metadata": {},
   "outputs": [],
   "source": [
    "greet = hello"
   ]
  },
  {
   "cell_type": "code",
   "execution_count": 16,
   "id": "b9939126",
   "metadata": {},
   "outputs": [
    {
     "data": {
      "text/plain": [
       "<function __main__.hello()>"
      ]
     },
     "execution_count": 16,
     "metadata": {},
     "output_type": "execute_result"
    }
   ],
   "source": [
    "greet"
   ]
  },
  {
   "cell_type": "code",
   "execution_count": 17,
   "id": "af51c3ef",
   "metadata": {},
   "outputs": [],
   "source": [
    "del hello"
   ]
  },
  {
   "cell_type": "code",
   "execution_count": 18,
   "id": "81f6b5a3",
   "metadata": {},
   "outputs": [
    {
     "ename": "NameError",
     "evalue": "name 'hello' is not defined",
     "output_type": "error",
     "traceback": [
      "\u001b[1;31m---------------------------------------------------------------------------\u001b[0m",
      "\u001b[1;31mNameError\u001b[0m                                 Traceback (most recent call last)",
      "Cell \u001b[1;32mIn[18], line 1\u001b[0m\n\u001b[1;32m----> 1\u001b[0m \u001b[43mhello\u001b[49m\n",
      "\u001b[1;31mNameError\u001b[0m: name 'hello' is not defined"
     ]
    }
   ],
   "source": [
    "hello"
   ]
  },
  {
   "cell_type": "code",
   "execution_count": 19,
   "id": "f5ea45d2",
   "metadata": {},
   "outputs": [
    {
     "data": {
      "text/plain": [
       "<function __main__.hello()>"
      ]
     },
     "execution_count": 19,
     "metadata": {},
     "output_type": "execute_result"
    }
   ],
   "source": [
    "greet"
   ]
  },
  {
   "cell_type": "code",
   "execution_count": null,
   "id": "2ed9d8db",
   "metadata": {},
   "outputs": [],
   "source": []
  },
  {
   "cell_type": "code",
   "execution_count": null,
   "id": "639874c2",
   "metadata": {},
   "outputs": [],
   "source": []
  },
  {
   "cell_type": "code",
   "execution_count": null,
   "id": "82d9c3b7",
   "metadata": {},
   "outputs": [],
   "source": []
  },
  {
   "cell_type": "code",
   "execution_count": 29,
   "id": "aad9d74f",
   "metadata": {},
   "outputs": [],
   "source": [
    "def hello(name =\"Jose\"):\n",
    "    print(\"The hello() function has been executed!\")\n",
    "    \n",
    "    def greet():\n",
    "        return \"\\nThis is greet function inside hello!\"\n",
    "    \n",
    "    def welcome():\n",
    "        return \"\\nThis is welcome function inside hello!\"\n",
    "    \n",
    "    print(\"I am going to return function!\")\n",
    "    \n",
    "    if name == 'Jose':\n",
    "        return greet\n",
    "    else:\n",
    "        return welcome\n",
    "#     print(greet())\n",
    "#     print(welcome())"
   ]
  },
  {
   "cell_type": "code",
   "execution_count": 30,
   "id": "18a3ca5f",
   "metadata": {},
   "outputs": [
    {
     "name": "stdout",
     "output_type": "stream",
     "text": [
      "The hello() function has been executed!\n",
      "I am going to return function!\n"
     ]
    }
   ],
   "source": [
    "my_new_func = hello('Jose')"
   ]
  },
  {
   "cell_type": "code",
   "execution_count": 32,
   "id": "8d0dfc39",
   "metadata": {},
   "outputs": [
    {
     "name": "stdout",
     "output_type": "stream",
     "text": [
      "\n",
      " This is greet function inside hello!\n"
     ]
    }
   ],
   "source": [
    "print(my_new_func())"
   ]
  },
  {
   "cell_type": "code",
   "execution_count": 34,
   "id": "bdf2cf2c",
   "metadata": {},
   "outputs": [],
   "source": [
    "def cool():\n",
    "    def super_cool():\n",
    "        return 'I am very cool!'\n",
    "    return super_cool"
   ]
  },
  {
   "cell_type": "code",
   "execution_count": 35,
   "id": "4f20abb0",
   "metadata": {},
   "outputs": [],
   "source": [
    "some_func = cool()"
   ]
  },
  {
   "cell_type": "code",
   "execution_count": 36,
   "id": "2d0a5aa5",
   "metadata": {},
   "outputs": [
    {
     "data": {
      "text/plain": [
       "'I am very cool!'"
      ]
     },
     "execution_count": 36,
     "metadata": {},
     "output_type": "execute_result"
    }
   ],
   "source": [
    "some_func()"
   ]
  },
  {
   "cell_type": "code",
   "execution_count": 37,
   "id": "0fe1ae37",
   "metadata": {},
   "outputs": [],
   "source": [
    "def hello():\n",
    "    return \"Hi!\"\n",
    "\n",
    "def other(some_def_func):\n",
    "    print(\"Other code runs here!\")\n",
    "    \n",
    "    print(some_def_func())"
   ]
  },
  {
   "cell_type": "code",
   "execution_count": 38,
   "id": "b07b1d7a",
   "metadata": {},
   "outputs": [
    {
     "name": "stdout",
     "output_type": "stream",
     "text": [
      "Other code runs here!\n",
      "Hi!\n"
     ]
    }
   ],
   "source": [
    "other(hello)"
   ]
  },
  {
   "cell_type": "code",
   "execution_count": null,
   "id": "535a0902",
   "metadata": {},
   "outputs": [],
   "source": [
    "def new_decorator(original_func):\n",
    "    \n",
    "    def wrap_func():\n",
    "        \n",
    "        print('Some extra code, before the original function')\n",
    "        \n",
    "        original_func()\n",
    "        \n",
    "        print('Some extra code, after the original function')\n",
    "        \n",
    "    return wrap_func"
   ]
  }
 ],
 "metadata": {
  "kernelspec": {
   "display_name": "Python 3 (ipykernel)",
   "language": "python",
   "name": "python3"
  },
  "language_info": {
   "codemirror_mode": {
    "name": "ipython",
    "version": 3
   },
   "file_extension": ".py",
   "mimetype": "text/x-python",
   "name": "python",
   "nbconvert_exporter": "python",
   "pygments_lexer": "ipython3",
   "version": "3.10.9"
  }
 },
 "nbformat": 4,
 "nbformat_minor": 5
}
