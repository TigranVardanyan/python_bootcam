{
 "cells": [
  {
   "cell_type": "code",
   "execution_count": 1,
   "id": "2136b3a8",
   "metadata": {},
   "outputs": [],
   "source": [
    "my_dict = {'key1': 'value1', 'key2': 'value2'}"
   ]
  },
  {
   "cell_type": "code",
   "execution_count": 2,
   "id": "79c3b80d",
   "metadata": {},
   "outputs": [
    {
     "data": {
      "text/plain": [
       "{'key1': 'value1', 'key2': 'value2'}"
      ]
     },
     "execution_count": 2,
     "metadata": {},
     "output_type": "execute_result"
    }
   ],
   "source": [
    "my_dict"
   ]
  },
  {
   "cell_type": "code",
   "execution_count": 3,
   "id": "bf454074",
   "metadata": {},
   "outputs": [
    {
     "data": {
      "text/plain": [
       "'value1'"
      ]
     },
     "execution_count": 3,
     "metadata": {},
     "output_type": "execute_result"
    }
   ],
   "source": [
    "my_dict['key1']"
   ]
  },
  {
   "cell_type": "code",
   "execution_count": 4,
   "id": "fdcfd17f",
   "metadata": {},
   "outputs": [],
   "source": [
    "prices_lookup = {'apple': 2.99, 'oranges': 1.99, 'milk': 5.80}"
   ]
  },
  {
   "cell_type": "code",
   "execution_count": 5,
   "id": "4a67e9c2",
   "metadata": {},
   "outputs": [
    {
     "data": {
      "text/plain": [
       "2.99"
      ]
     },
     "execution_count": 5,
     "metadata": {},
     "output_type": "execute_result"
    }
   ],
   "source": [
    "prices_lookup['apple']"
   ]
  },
  {
   "cell_type": "code",
   "execution_count": 6,
   "id": "9fbc6a43",
   "metadata": {},
   "outputs": [],
   "source": [
    "d = {'k1': 123, 'k2': [1,2,3], 'k3': {'insightKey': 100}}"
   ]
  },
  {
   "cell_type": "code",
   "execution_count": 7,
   "id": "2a0e350f",
   "metadata": {},
   "outputs": [
    {
     "data": {
      "text/plain": [
       "[1, 2, 3]"
      ]
     },
     "execution_count": 7,
     "metadata": {},
     "output_type": "execute_result"
    }
   ],
   "source": [
    "d['k2']"
   ]
  },
  {
   "cell_type": "code",
   "execution_count": 8,
   "id": "e37f3fe4",
   "metadata": {},
   "outputs": [
    {
     "data": {
      "text/plain": [
       "100"
      ]
     },
     "execution_count": 8,
     "metadata": {},
     "output_type": "execute_result"
    }
   ],
   "source": [
    "d[\"k3\"]['insightKey']"
   ]
  },
  {
   "cell_type": "code",
   "execution_count": 9,
   "id": "532037ec",
   "metadata": {},
   "outputs": [],
   "source": [
    "d = {'key1': ['a','b','c',]}"
   ]
  },
  {
   "cell_type": "code",
   "execution_count": 10,
   "id": "2f55c71a",
   "metadata": {},
   "outputs": [],
   "source": [
    "myList = d['key1']"
   ]
  },
  {
   "cell_type": "code",
   "execution_count": 11,
   "id": "628ea7df",
   "metadata": {},
   "outputs": [
    {
     "data": {
      "text/plain": [
       "['a', 'b', 'c']"
      ]
     },
     "execution_count": 11,
     "metadata": {},
     "output_type": "execute_result"
    }
   ],
   "source": [
    "myList"
   ]
  },
  {
   "cell_type": "code",
   "execution_count": 12,
   "id": "8bdf1f9e",
   "metadata": {},
   "outputs": [],
   "source": [
    "letter = myList[2]"
   ]
  },
  {
   "cell_type": "code",
   "execution_count": 13,
   "id": "48acce40",
   "metadata": {},
   "outputs": [
    {
     "data": {
      "text/plain": [
       "'c'"
      ]
     },
     "execution_count": 13,
     "metadata": {},
     "output_type": "execute_result"
    }
   ],
   "source": [
    "letter"
   ]
  },
  {
   "cell_type": "code",
   "execution_count": 14,
   "id": "2ee2fa00",
   "metadata": {},
   "outputs": [
    {
     "data": {
      "text/plain": [
       "'C'"
      ]
     },
     "execution_count": 14,
     "metadata": {},
     "output_type": "execute_result"
    }
   ],
   "source": [
    "letter.upper()"
   ]
  },
  {
   "cell_type": "code",
   "execution_count": 15,
   "id": "1a333850",
   "metadata": {},
   "outputs": [
    {
     "data": {
      "text/plain": [
       "'C'"
      ]
     },
     "execution_count": 15,
     "metadata": {},
     "output_type": "execute_result"
    }
   ],
   "source": [
    "d[\"key1\"][2].upper()"
   ]
  },
  {
   "cell_type": "code",
   "execution_count": 16,
   "id": "cb9c83d8",
   "metadata": {},
   "outputs": [
    {
     "data": {
      "text/plain": [
       "{'key1': ['a', 'b', 'c']}"
      ]
     },
     "execution_count": 16,
     "metadata": {},
     "output_type": "execute_result"
    }
   ],
   "source": [
    "d"
   ]
  },
  {
   "cell_type": "code",
   "execution_count": 17,
   "id": "88e16d2d",
   "metadata": {},
   "outputs": [
    {
     "data": {
      "text/plain": [
       "'c'"
      ]
     },
     "execution_count": 17,
     "metadata": {},
     "output_type": "execute_result"
    }
   ],
   "source": [
    "letter"
   ]
  },
  {
   "cell_type": "code",
   "execution_count": 18,
   "id": "e32abace",
   "metadata": {},
   "outputs": [],
   "source": [
    "d = {'key1': 100, 'key2': 200}"
   ]
  },
  {
   "cell_type": "code",
   "execution_count": 19,
   "id": "918dfb29",
   "metadata": {},
   "outputs": [],
   "source": [
    "d['key3'] = 300"
   ]
  },
  {
   "cell_type": "code",
   "execution_count": 20,
   "id": "66aed45b",
   "metadata": {},
   "outputs": [
    {
     "data": {
      "text/plain": [
       "{'key1': 100, 'key2': 200, 'key3': 300}"
      ]
     },
     "execution_count": 20,
     "metadata": {},
     "output_type": "execute_result"
    }
   ],
   "source": [
    "d"
   ]
  },
  {
   "cell_type": "code",
   "execution_count": 21,
   "id": "4c3b2338",
   "metadata": {},
   "outputs": [],
   "source": [
    "d['key1'] = 'hello'"
   ]
  },
  {
   "cell_type": "code",
   "execution_count": 22,
   "id": "0c93a067",
   "metadata": {},
   "outputs": [
    {
     "data": {
      "text/plain": [
       "{'key1': 'hello', 'key2': 200, 'key3': 300}"
      ]
     },
     "execution_count": 22,
     "metadata": {},
     "output_type": "execute_result"
    }
   ],
   "source": [
    "d"
   ]
  },
  {
   "cell_type": "code",
   "execution_count": 23,
   "id": "24b45003",
   "metadata": {},
   "outputs": [],
   "source": [
    "d = {'key1': 100, 'key2': 200, 'key3': 300}"
   ]
  },
  {
   "cell_type": "code",
   "execution_count": 24,
   "id": "e3f4d102",
   "metadata": {},
   "outputs": [
    {
     "data": {
      "text/plain": [
       "dict_keys(['key1', 'key2', 'key3'])"
      ]
     },
     "execution_count": 24,
     "metadata": {},
     "output_type": "execute_result"
    }
   ],
   "source": [
    "d.keys()"
   ]
  },
  {
   "cell_type": "code",
   "execution_count": 25,
   "id": "eec63c42",
   "metadata": {},
   "outputs": [
    {
     "data": {
      "text/plain": [
       "dict_values([100, 200, 300])"
      ]
     },
     "execution_count": 25,
     "metadata": {},
     "output_type": "execute_result"
    }
   ],
   "source": [
    "d.values()"
   ]
  },
  {
   "cell_type": "code",
   "execution_count": 26,
   "id": "e28bff86",
   "metadata": {},
   "outputs": [
    {
     "data": {
      "text/plain": [
       "dict_items([('key1', 100), ('key2', 200), ('key3', 300)])"
      ]
     },
     "execution_count": 26,
     "metadata": {},
     "output_type": "execute_result"
    }
   ],
   "source": [
    "d.items()"
   ]
  },
  {
   "cell_type": "code",
   "execution_count": null,
   "id": "e6228abf",
   "metadata": {},
   "outputs": [],
   "source": []
  }
 ],
 "metadata": {
  "kernelspec": {
   "display_name": "Python 3 (ipykernel)",
   "language": "python",
   "name": "python3"
  },
  "language_info": {
   "codemirror_mode": {
    "name": "ipython",
    "version": 3
   },
   "file_extension": ".py",
   "mimetype": "text/x-python",
   "name": "python",
   "nbconvert_exporter": "python",
   "pygments_lexer": "ipython3",
   "version": "3.9.13"
  }
 },
 "nbformat": 4,
 "nbformat_minor": 5
}
