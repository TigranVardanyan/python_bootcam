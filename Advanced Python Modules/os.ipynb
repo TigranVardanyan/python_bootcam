{
 "cells": [
  {
   "cell_type": "code",
   "execution_count": 26,
   "id": "46cbb681",
   "metadata": {},
   "outputs": [
    {
     "data": {
      "text/plain": [
       "'C:\\\\Users\\\\tvardany\\\\Documents\\\\python_bootcam\\\\Advanced Python Modules'"
      ]
     },
     "execution_count": 26,
     "metadata": {},
     "output_type": "execute_result"
    }
   ],
   "source": [
    "pwd"
   ]
  },
  {
   "cell_type": "code",
   "execution_count": 27,
   "id": "004693e3",
   "metadata": {},
   "outputs": [],
   "source": [
    "f = open('practice.txt', 'w+')\n",
    "\n",
    "f.write('This is test string')\n",
    "\n",
    "f.close()"
   ]
  },
  {
   "cell_type": "code",
   "execution_count": 28,
   "id": "f4e71170",
   "metadata": {},
   "outputs": [
    {
     "data": {
      "text/plain": [
       "'C:\\\\Users\\\\tvardany\\\\Documents\\\\python_bootcam\\\\Advanced Python Modules'"
      ]
     },
     "execution_count": 28,
     "metadata": {},
     "output_type": "execute_result"
    }
   ],
   "source": [
    "import os\n",
    "\n",
    "os.getcwd()"
   ]
  },
  {
   "cell_type": "code",
   "execution_count": 29,
   "id": "6b26c02f",
   "metadata": {},
   "outputs": [
    {
     "data": {
      "text/plain": [
       "['.ipynb_checkpoints',\n",
       " 'Collections.ipynb',\n",
       " 'created_folder',\n",
       " 'os.ipynb',\n",
       " 'practice.txt']"
      ]
     },
     "execution_count": 29,
     "metadata": {},
     "output_type": "execute_result"
    }
   ],
   "source": [
    "os.listdir()"
   ]
  },
  {
   "cell_type": "code",
   "execution_count": 30,
   "id": "1e007990",
   "metadata": {},
   "outputs": [],
   "source": [
    "import shutil"
   ]
  },
  {
   "cell_type": "code",
   "execution_count": 31,
   "id": "d35cfbfd",
   "metadata": {},
   "outputs": [
    {
     "data": {
      "text/plain": [
       "'C:\\\\Users\\\\tvardany\\\\practice.txt'"
      ]
     },
     "execution_count": 31,
     "metadata": {},
     "output_type": "execute_result"
    }
   ],
   "source": [
    "shutil.move('practice.txt', 'C:\\\\Users\\\\tvardany')"
   ]
  },
  {
   "cell_type": "code",
   "execution_count": 32,
   "id": "ebaff981",
   "metadata": {},
   "outputs": [],
   "source": [
    "import send2trash"
   ]
  },
  {
   "cell_type": "code",
   "execution_count": 34,
   "id": "98a90561",
   "metadata": {},
   "outputs": [
    {
     "data": {
      "text/plain": [
       "['.ipynb_checkpoints', 'Collections.ipynb', 'created_folder', 'os.ipynb']"
      ]
     },
     "execution_count": 34,
     "metadata": {},
     "output_type": "execute_result"
    }
   ],
   "source": [
    "os.listdir()"
   ]
  },
  {
   "cell_type": "code",
   "execution_count": 36,
   "id": "fef518a7",
   "metadata": {},
   "outputs": [
    {
     "data": {
      "text/plain": [
       "'C:\\\\Users\\\\tvardany\\\\Documents\\\\python_bootcam\\\\Advanced Python Modules\\\\practice.txt'"
      ]
     },
     "execution_count": 36,
     "metadata": {},
     "output_type": "execute_result"
    }
   ],
   "source": [
    "shutil.move('C:\\\\Users\\\\tvardany\\\\practice.txt', os.getcwd())"
   ]
  },
  {
   "cell_type": "code",
   "execution_count": 37,
   "id": "aa0fd123",
   "metadata": {},
   "outputs": [
    {
     "data": {
      "text/plain": [
       "['.ipynb_checkpoints',\n",
       " 'Collections.ipynb',\n",
       " 'created_folder',\n",
       " 'os.ipynb',\n",
       " 'practice.txt']"
      ]
     },
     "execution_count": 37,
     "metadata": {},
     "output_type": "execute_result"
    }
   ],
   "source": [
    "os.listdir()"
   ]
  },
  {
   "cell_type": "code",
   "execution_count": 38,
   "id": "18ce6001",
   "metadata": {},
   "outputs": [],
   "source": [
    "send2trash.send2trash('practice.txt')"
   ]
  },
  {
   "cell_type": "code",
   "execution_count": 43,
   "id": "471e2fa8",
   "metadata": {},
   "outputs": [
    {
     "name": "stdout",
     "output_type": "stream",
     "text": [
      "\n",
      " Folder ./\n",
      "\n",
      " Subfolder ['.ipynb_checkpoints']\n",
      "\n",
      " Files ['Collections.ipynb', 'created_folder', 'os.ipynb']\n",
      "\n",
      " Folder ./.ipynb_checkpoints\n",
      "\n",
      " Subfolder []\n",
      "\n",
      " Files ['Collections-checkpoint.ipynb', 'os-checkpoint.ipynb']\n"
     ]
    }
   ],
   "source": [
    "for folder, sub_folder, files in os.walk('./'):\n",
    "    print('\\n Folder', folder)\n",
    "    print('\\n Subfolder',sub_folder)\n",
    "    print('\\n Files',files)"
   ]
  },
  {
   "cell_type": "code",
   "execution_count": null,
   "id": "5d5179f5",
   "metadata": {},
   "outputs": [],
   "source": []
  }
 ],
 "metadata": {
  "kernelspec": {
   "display_name": "Python 3 (ipykernel)",
   "language": "python",
   "name": "python3"
  },
  "language_info": {
   "codemirror_mode": {
    "name": "ipython",
    "version": 3
   },
   "file_extension": ".py",
   "mimetype": "text/x-python",
   "name": "python",
   "nbconvert_exporter": "python",
   "pygments_lexer": "ipython3",
   "version": "3.10.9"
  }
 },
 "nbformat": 4,
 "nbformat_minor": 5
}
