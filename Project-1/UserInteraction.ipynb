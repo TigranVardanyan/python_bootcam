{
 "cells": [
  {
   "cell_type": "code",
   "execution_count": 1,
   "id": "7a4a3940",
   "metadata": {},
   "outputs": [],
   "source": [
    "game_list = ['0','1','2']"
   ]
  },
  {
   "cell_type": "code",
   "execution_count": 2,
   "id": "c6ac23ab",
   "metadata": {},
   "outputs": [],
   "source": [
    "def display_game(game_list):\n",
    "    print(\"Here is the current list:\")\n",
    "    print(game_list)"
   ]
  },
  {
   "cell_type": "code",
   "execution_count": 3,
   "id": "1721b3e0",
   "metadata": {},
   "outputs": [
    {
     "name": "stdout",
     "output_type": "stream",
     "text": [
      "Here is the current list:\n",
      "['0', '1', '2']\n"
     ]
    }
   ],
   "source": [
    "display_game(game_list)"
   ]
  },
  {
   "cell_type": "code",
   "execution_count": 4,
   "id": "25e4ea27",
   "metadata": {},
   "outputs": [],
   "source": [
    "def position_choice():\n",
    "    choice = 'wrong'\n",
    "    \n",
    "    while choice not in ['0','1','2']:\n",
    "        \n",
    "        choice = input(\"Pick a position (0,1,2):\")\n",
    "        if choice not in ['0','1','2']:\n",
    "            print('Sorry, invalid choice! ')\n",
    "    return int(choice)"
   ]
  },
  {
   "cell_type": "code",
   "execution_count": 5,
   "id": "8c0aab92",
   "metadata": {},
   "outputs": [],
   "source": [
    "#position_choice()"
   ]
  },
  {
   "cell_type": "code",
   "execution_count": 6,
   "id": "60bb91bc",
   "metadata": {},
   "outputs": [],
   "source": [
    "def replacement_choice(game_list, position):\n",
    "    user_placement = input(\"Type a string to place at position: \")\n",
    "    \n",
    "    game_list[position] = user_placement\n",
    "    \n",
    "    return game_list"
   ]
  },
  {
   "cell_type": "code",
   "execution_count": 7,
   "id": "5682de81",
   "metadata": {},
   "outputs": [],
   "source": [
    "#replacement_choice(game_list, 1)"
   ]
  },
  {
   "cell_type": "code",
   "execution_count": 8,
   "id": "b2519289",
   "metadata": {},
   "outputs": [],
   "source": [
    "def gameon_choice():\n",
    "    choice = 'wrong'\n",
    "    \n",
    "    while choice not in ['Y', 'N']:\n",
    "        \n",
    "        choice = input(\"Keep playing? (Y or N) \")\n",
    "        if choice not in ['Y', 'N']:\n",
    "            print('Sorry, I dont understand, please choose Y or N ')\n",
    "    if choice == 'Y':\n",
    "        return True\n",
    "    else:\n",
    "        return False"
   ]
  },
  {
   "cell_type": "code",
   "execution_count": 9,
   "id": "0615d96b",
   "metadata": {},
   "outputs": [],
   "source": [
    "#gameon_choice()"
   ]
  },
  {
   "cell_type": "code",
   "execution_count": null,
   "id": "13949dea",
   "metadata": {},
   "outputs": [
    {
     "name": "stdout",
     "output_type": "stream",
     "text": [
      "Here is the current list:\n",
      "[0, 1, 2]\n",
      "Pick a position (0,1,2):0\n",
      "Type a string to place at position: test\n",
      "Here is the current list:\n",
      "['test', 1, 2]\n",
      "Keep playing? (Y or N) Y\n",
      "Here is the current list:\n",
      "['test', 1, 2]\n",
      "Pick a position (0,1,2):0\n",
      "Type a string to place at position: t\n",
      "Here is the current list:\n",
      "['t', 1, 2]\n",
      "Keep playing? (Y or N) Y\n",
      "Here is the current list:\n",
      "['t', 1, 2]\n",
      "Pick a position (0,1,2):1\n",
      "Type a string to place at position: V\n",
      "Here is the current list:\n",
      "['t', 'V', 2]\n"
     ]
    }
   ],
   "source": [
    "game_on = True\n",
    "game_list = [0,1,2]\n",
    "\n",
    "while game_on:\n",
    "    display_game(game_list)\n",
    "    \n",
    "    position = position_choice()\n",
    "    \n",
    "    game_list = replacement_choice(game_list, position)\n",
    "    \n",
    "    display_game(game_list)\n",
    "    \n",
    "    game_on = gameon_choice()"
   ]
  },
  {
   "cell_type": "code",
   "execution_count": null,
   "id": "871a7d41",
   "metadata": {},
   "outputs": [],
   "source": []
  }
 ],
 "metadata": {
  "kernelspec": {
   "display_name": "Python 3 (ipykernel)",
   "language": "python",
   "name": "python3"
  },
  "language_info": {
   "codemirror_mode": {
    "name": "ipython",
    "version": 3
   },
   "file_extension": ".py",
   "mimetype": "text/x-python",
   "name": "python",
   "nbconvert_exporter": "python",
   "pygments_lexer": "ipython3",
   "version": "3.9.13"
  }
 },
 "nbformat": 4,
 "nbformat_minor": 5
}
