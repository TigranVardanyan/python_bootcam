{
 "cells": [
  {
   "cell_type": "code",
   "execution_count": 3,
   "id": "c681f5b7",
   "metadata": {},
   "outputs": [
    {
     "name": "stdout",
     "output_type": "stream",
     "text": [
      "ist true\n"
     ]
    }
   ],
   "source": [
    "if 3>2:\n",
    "    print('ist true')"
   ]
  },
  {
   "cell_type": "code",
   "execution_count": 4,
   "id": "05b8d3a9",
   "metadata": {},
   "outputs": [],
   "source": [
    "hungry = True"
   ]
  },
  {
   "cell_type": "code",
   "execution_count": 5,
   "id": "1eb70654",
   "metadata": {},
   "outputs": [
    {
     "name": "stdout",
     "output_type": "stream",
     "text": [
      "Yes\n"
     ]
    }
   ],
   "source": [
    "if hungry:\n",
    "    print('Yes')\n",
    "else:\n",
    "    print('no')"
   ]
  },
  {
   "cell_type": "code",
   "execution_count": 12,
   "id": "2d7621ca",
   "metadata": {},
   "outputs": [
    {
     "name": "stdout",
     "output_type": "stream",
     "text": [
      "Cars are cool\n"
     ]
    }
   ],
   "source": [
    "loc = 'Auto shop'\n",
    "\n",
    "if loc == 'Auto shop':\n",
    "    print('Cars are cool')\n",
    "elif loc == \"Bank\":\n",
    "    print('money is cool')\n",
    "elif loc == \"Store\":\n",
    "    print('Welcome to store')\n",
    "else:\n",
    "    print('I do not know mutch')\n",
    "        "
   ]
  }
 ],
 "metadata": {
  "kernelspec": {
   "display_name": "Python 3 (ipykernel)",
   "language": "python",
   "name": "python3"
  },
  "language_info": {
   "codemirror_mode": {
    "name": "ipython",
    "version": 3
   },
   "file_extension": ".py",
   "mimetype": "text/x-python",
   "name": "python",
   "nbconvert_exporter": "python",
   "pygments_lexer": "ipython3",
   "version": "3.9.13"
  }
 },
 "nbformat": 4,
 "nbformat_minor": 5
}
