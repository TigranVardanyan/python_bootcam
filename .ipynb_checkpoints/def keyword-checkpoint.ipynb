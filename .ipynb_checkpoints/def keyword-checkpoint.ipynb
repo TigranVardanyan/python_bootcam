{
 "cells": [
  {
   "cell_type": "code",
   "execution_count": 3,
   "id": "8ff69d90",
   "metadata": {},
   "outputs": [
    {
     "name": "stdout",
     "output_type": "stream",
     "text": [
      "Hello Tigran\n"
     ]
    }
   ],
   "source": [
    "def name_of_function(name):\n",
    "    \"\"\"\n",
    "    Docstring explains function.\n",
    "    \"\"\"\n",
    "    print(\"Hello \" + name)\n",
    "    \n",
    "name_of_function('Tigran')"
   ]
  },
  {
   "cell_type": "code",
   "execution_count": 4,
   "id": "56e038cc",
   "metadata": {},
   "outputs": [
    {
     "name": "stdout",
     "output_type": "stream",
     "text": [
      "3\n"
     ]
    }
   ],
   "source": [
    "def add_function(num1, num2):\n",
    "    return num1 + num2\n",
    "\n",
    "result = add_function(1,2)\n",
    "\n",
    "print(result)"
   ]
  }
 ],
 "metadata": {
  "kernelspec": {
   "display_name": "Python 3 (ipykernel)",
   "language": "python",
   "name": "python3"
  },
  "language_info": {
   "codemirror_mode": {
    "name": "ipython",
    "version": 3
   },
   "file_extension": ".py",
   "mimetype": "text/x-python",
   "name": "python",
   "nbconvert_exporter": "python",
   "pygments_lexer": "ipython3",
   "version": "3.9.13"
  }
 },
 "nbformat": 4,
 "nbformat_minor": 5
}
